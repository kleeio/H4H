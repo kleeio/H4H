{
 "cells": [
  {
   "cell_type": "code",
   "execution_count": 62,
   "id": "d1f438ad",
   "metadata": {
    "scrolled": true
   },
   "outputs": [
    {
     "name": "stdout",
     "output_type": "stream",
     "text": [
      "None\n"
     ]
    }
   ],
   "source": [
    "import pandas as pd\n",
    "import re \n",
    "\n",
    "data = pd.read_json('mentalhealth.json')\n",
    "\n",
    "# for entry in data[\"intents\"]:\n",
    "#     print(entry[\"patterns\"][0])\n",
    "#     print(\"\\n\")\n",
    "\n",
    "def getResults(questions, fn):\n",
    "    def getResult(q):\n",
    "        answer, score, prediction = fn(q)\n",
    "#         return [q, prediction, answer, score]\n",
    "\n",
    "        return pd.DataFrame(list(map(getResult, questions)), columns=[\"Q\", \"data['intents'][0]['patterns'][0]\", \"data['intents'][0]['responses'][0]\", \"Score\"])\n",
    "\n",
    "test_data = [\n",
    "    \"What does it mean to have a mental illness?\",\n",
    "    \"what does it mean to have a mental illness\",\n",
    "    \"what does it mean to have mental health problems\"\n",
    "]\n",
    "\n",
    "# print(data['intents'][0]['patterns'][0])\n",
    "\n",
    "def getNaiveAnswer(q):\n",
    "    # regex helps to pass some punctuation signs\n",
    "#     print(data.loc[data['intents']['patterns'][0]])\n",
    "#     row = data.loc[data['intents'][0]['patterns'][0].str.contains(re.sub(r\"[^\\w'\\s)]+\", \"\", q),case=False)]\n",
    "    row = data['intents'][0]['patterns'][0].str.contains(re.sub(r\"[^\\w'\\s)]+\", \"\", q),case=False)\n",
    "    print(len(row))\n",
    "    return \"hello\"\n",
    "#     if len(row) > 0:\n",
    "    return data['intents'][0]['responses'][0], 1, data['intents'][0]['patterns'][0]\n",
    "    return \"Sorry, I didn't get you.\", 0, \"\"\n",
    "\n",
    "print(getResults(test_data, getNaiveAnswer))"
   ]
  },
  {
   "cell_type": "code",
   "execution_count": null,
   "id": "2a6e7178",
   "metadata": {},
   "outputs": [],
   "source": []
  }
 ],
 "metadata": {
  "kernelspec": {
   "display_name": "Python 3 (ipykernel)",
   "language": "python",
   "name": "python3"
  },
  "language_info": {
   "codemirror_mode": {
    "name": "ipython",
    "version": 3
   },
   "file_extension": ".py",
   "mimetype": "text/x-python",
   "name": "python",
   "nbconvert_exporter": "python",
   "pygments_lexer": "ipython3",
   "version": "3.9.12"
  }
 },
 "nbformat": 4,
 "nbformat_minor": 5
}
