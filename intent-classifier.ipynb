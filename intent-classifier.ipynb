{
 "cells": [
  {
   "cell_type": "code",
   "execution_count": 23,
   "id": "818174bb",
   "metadata": {},
   "outputs": [
    {
     "name": "stdout",
     "output_type": "stream",
     "text": [
      "(47, 4)\n",
      "train: (47, 4) \n",
      "            tag                                           patterns  \\\n",
      "0    definition  [What does it mean to have a mental illness?, ...   \n",
      "1  affects_whom  [Who does mental illness affect?, Who is affec...   \n",
      "2   what_causes  [What causes mental illness?, What leads to me...   \n",
      "3       recover  [Can people with mental illness recover?, Is i...   \n",
      "4         steps  [I know someone who appears to have such sympt...   \n",
      "\n",
      "                                           responses context  \n",
      "0  [Mental illnesses are health conditions that d...      []  \n",
      "1  [It is estimated that mental illness affects 1...      []  \n",
      "2  [Symptoms of mental health disorders vary depe...      []  \n",
      "3  [When healing from mental illness, early ident...      []  \n",
      "4  [Although this website cannot substitute for p...      []  \n"
     ]
    },
    {
     "data": {
      "text/plain": [
       "definition               4\n",
       "what_causes              4\n",
       "anxiety_reduce           3\n",
       "treatment_tips           2\n",
       "affects_whom             2\n",
       "right_professional       2\n",
       "professional_types       2\n",
       "bullying                 2\n",
       "treatment_options        2\n",
       "recover                  2\n",
       "steps                    2\n",
       "find_help                2\n",
       "cause_diabetes           1\n",
       "stat_thoughts            1\n",
       "control_thoughts         1\n",
       "anxiety_affects          1\n",
       "anxiety_ages             1\n",
       "anxiety_stages           1\n",
       "anxiety_time             1\n",
       "cause_low_blood_sugar    1\n",
       "cause_no_sleep           1\n",
       "cause_oversleep          1\n",
       "stat_race                1\n",
       "stat_world               1\n",
       "cause_school             1\n",
       "lowest_stat_country      1\n",
       "highest_stat_country     1\n",
       "stat_age                 1\n",
       "depression_type          1\n",
       "cause_bio                1\n",
       "Name: tag, dtype: int64"
      ]
     },
     "execution_count": 23,
     "metadata": {},
     "output_type": "execute_result"
    }
   ],
   "source": [
    "import numpy as np\n",
    "import pandas as pd\n",
    "\n",
    "# !ls ./taggedIntents\n",
    "inputFolder = \"./taggedIntents/\"\n",
    "\n",
    "train0 = pd.read_json(inputFolder + \"intentscopy.json\")\n",
    "train1 = pd.read_json(inputFolder + \"intents1copy.json\")\n",
    "test = pd.read_json(inputFolder + \"intentstest.json\")\n",
    "valid = pd.read_json(inputFolder + \"intentscopy.json\")\n",
    "\n",
    "# print(f\"train0: {train0.shape} \\n{train0.head()}\" )\n",
    "# print(f\"train1: {train1.shape} \\n{train1.head()}\" )\n",
    "# print(f\"\\nvalid: {valid.shape} \\n{valid.head()}\" )\n",
    "# print(f\"\\ntest: {test.shape} \\n{test.head()}\" )\n",
    "\n",
    "\n",
    "new_train = pd.concat([train0, train1, valid], ignore_index = True)\n",
    "print(new_train.shape)\n",
    "print(f\"train: {new_train.shape} \\n{new_train.head()}\" )\n",
    "\n",
    "#print the unique intents\n",
    "new_train.tag.unique()\n",
    "\n",
    "new_train.tag.value_counts()\n"
   ]
  },
  {
   "cell_type": "code",
   "execution_count": 29,
   "id": "083dfab2",
   "metadata": {},
   "outputs": [
    {
     "name": "stdout",
     "output_type": "stream",
     "text": [
      "bert_config.json                    bert_model.ckpt.index\n",
      "bert_model.ckpt.data-00000-of-00001 vocab.txt\n",
      "[PAD]\n",
      "[unused0]\n",
      "[unused1]\n",
      "[unused2]\n",
      "[unused3]\n",
      "[unused4]\n",
      "[unused5]\n",
      "[unused6]\n",
      "[unused7]\n",
      "[unused8]\n"
     ]
    }
   ],
   "source": [
    "# double check loading of BERT\n",
    "!ls ./uncased_L-12_H-768_A-12\n",
    "!head ./uncased_L-12_H-768_A-12/vocab.txt"
   ]
  },
  {
   "cell_type": "code",
   "execution_count": 36,
   "id": "07c0fc78",
   "metadata": {},
   "outputs": [
    {
     "name": "stdout",
     "output_type": "stream",
     "text": [
      "./uncased_L-12_H-768_A-12\n",
      "./uncased_L-12_H-768_A-12/bert_model.ckpt\n",
      "./uncased_L-12_H-768_A-12/bert_config.json\n",
      "./uncased_L-12_H-768_A-12/vocab.txt\n"
     ]
    }
   ],
   "source": [
    "import os\n",
    "modelInputFolder = './'\n",
    "bert_model_name=\"uncased_L-12_H-768_A-12\"\n",
    "bert_ckpt_dir = os.path.join(modelInputFolder, bert_model_name)\n",
    "bert_ckpt_file = os.path.join(bert_ckpt_dir, \"bert_model.ckpt\")\n",
    "bert_config_file = os.path.join(bert_ckpt_dir, \"bert_config.json\")\n",
    "print(bert_ckpt_dir)\n",
    "print(bert_ckpt_file)\n",
    "print(bert_config_file)\n",
    "vocab_file = os.path.join(bert_ckpt_dir, \"vocab.txt\")\n",
    "print(vocab_file)"
   ]
  },
  {
   "cell_type": "code",
   "execution_count": 68,
   "id": "4f4083d5",
   "metadata": {},
   "outputs": [
    {
     "ename": "SyntaxError",
     "evalue": "invalid syntax (2566488661.py, line 17)",
     "output_type": "error",
     "traceback": [
      "\u001b[0;36m  Input \u001b[0;32mIn [68]\u001b[0;36m\u001b[0m\n\u001b[0;31m    python run_classifier.py \\\u001b[0m\n\u001b[0m           ^\u001b[0m\n\u001b[0;31mSyntaxError\u001b[0m\u001b[0;31m:\u001b[0m invalid syntax\n"
     ]
    }
   ],
   "source": [
    "\n",
    "# TRY IMPORTING LIKE THIS FIRST; IF IT DOESN'T WORK, COMMENT OUT AND TRY THE BLOCK BENEATH\n",
    "# from bert import bert_tokenization\n",
    "# BertTokenizer = bert_tokenization.FullTokenizer\n",
    "\n",
    "\n",
    "\n",
    "# import tensorflow_hub as hub\n",
    "# import tensorflow as tf\n",
    "# from bert import tokenization\n",
    "# from tensorflow.keras.models import Model       # Keras is the new high level API for TensorFlow\n",
    "# import math\n",
    "\n"
   ]
  },
  {
   "cell_type": "code",
   "execution_count": null,
   "id": "a1b9d59a",
   "metadata": {},
   "outputs": [],
   "source": []
  }
 ],
 "metadata": {
  "kernelspec": {
   "display_name": "Python 3",
   "language": "python",
   "name": "python3"
  },
  "language_info": {
   "codemirror_mode": {
    "name": "ipython",
    "version": 3
   },
   "file_extension": ".py",
   "mimetype": "text/x-python",
   "name": "python",
   "nbconvert_exporter": "python",
   "pygments_lexer": "ipython3",
   "version": "3.9.6"
  },
  "vscode": {
   "interpreter": {
    "hash": "31f2aee4e71d21fbe5cf8b01ff0e069b9275f58929596ceb00d14d90e3e16cd6"
   }
  }
 },
 "nbformat": 4,
 "nbformat_minor": 5
}
